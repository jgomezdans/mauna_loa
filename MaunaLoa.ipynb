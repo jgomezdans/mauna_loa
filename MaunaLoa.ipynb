{
 "cells": [
  {
   "cell_type": "markdown",
   "metadata": {
    "toc": "true"
   },
   "source": [
    " # Table of Contents\n",
    "<div class=\"toc\" style=\"margin-top: 1em;\"><ul class=\"toc-item\" id=\"toc-level0\"><li><span><a href=\"http://localhost:8888/notebooks/MaunaLoa.ipynb#Introduction\" data-toc-modified-id=\"Introduction-1\"><span class=\"toc-item-num\">1&nbsp;&nbsp;</span>Introduction</a></span></li><li><span><a href=\"http://localhost:8888/notebooks/MaunaLoa.ipynb#Obtaining-the-data\" data-toc-modified-id=\"Obtaining-the-data-2\"><span class=\"toc-item-num\">2&nbsp;&nbsp;</span>Obtaining the data</a></span><ul class=\"toc-item\"><li><span><a href=\"http://localhost:8888/notebooks/MaunaLoa.ipynb#Downloading-the-data\" data-toc-modified-id=\"Downloading-the-data-2.1\"><span class=\"toc-item-num\">2.1&nbsp;&nbsp;</span>Downloading the data</a></span></li><li><span><a href=\"http://localhost:8888/notebooks/MaunaLoa.ipynb#Exploring-the-data\" data-toc-modified-id=\"Exploring-the-data-2.2\"><span class=\"toc-item-num\">2.2&nbsp;&nbsp;</span>Exploring the data</a></span></li></ul></li><li><span><a href=\"http://localhost:8888/notebooks/MaunaLoa.ipynb#Loading-the-data-into-Python\" data-toc-modified-id=\"Loading-the-data-into-Python-3\"><span class=\"toc-item-num\">3&nbsp;&nbsp;</span>Loading the data into Python</a></span></li><li><span><a href=\"http://localhost:8888/notebooks/MaunaLoa.ipynb#A-model-for-$CO_2$-concentration\" data-toc-modified-id=\"A-model-for-$CO_2$-concentration-4\"><span class=\"toc-item-num\">4&nbsp;&nbsp;</span>A model for $CO_2$ concentration</a></span><ul class=\"toc-item\"><li><span><a href=\"http://localhost:8888/notebooks/MaunaLoa.ipynb#A-linear-trend-model\" data-toc-modified-id=\"A-linear-trend-model-4.1\"><span class=\"toc-item-num\">4.1&nbsp;&nbsp;</span>A linear trend model</a></span></li><li><span><a href=\"http://localhost:8888/notebooks/MaunaLoa.ipynb#A-quadratic-model\" data-toc-modified-id=\"A-quadratic-model-4.2\"><span class=\"toc-item-num\">4.2&nbsp;&nbsp;</span>A quadratic model</a></span></li></ul></li><li><span><a href=\"http://localhost:8888/notebooks/MaunaLoa.ipynb#Solving-the-problem-using-linear-algebra\" data-toc-modified-id=\"Solving-the-problem-using-linear-algebra-5\"><span class=\"toc-item-num\">5&nbsp;&nbsp;</span>Solving the problem using linear algebra</a></span><ul class=\"toc-item\"><li><span><a href=\"http://localhost:8888/notebooks/MaunaLoa.ipynb#Solution-using-np.linalg.lstsq\" data-toc-modified-id=\"Solution-using-np.linalg.lstsq-5.1\"><span class=\"toc-item-num\">5.1&nbsp;&nbsp;</span>Solution using <code>np.linalg.lstsq</code></a></span></li></ul></li><li><span><a href=\"http://localhost:8888/notebooks/MaunaLoa.ipynb#A-model-with-seasonality\" data-toc-modified-id=\"A-model-with-seasonality-6\"><span class=\"toc-item-num\">6&nbsp;&nbsp;</span>A model with seasonality</a></span></li></ul></div>"
   ]
  },
  {
   "cell_type": "markdown",
   "metadata": {},
   "source": [
    "# Fitting to the Mauna Loa $CO_2$ record\n",
    "\n",
    "## Introduction\n",
    "\n",
    "$CO_2$ concentration in the atmosphere has been steadily increasing. The flask measurements collected in Mauna Loa provide a fairly long time series that allows us to see the temporal evolution of this trace gas. In this notebook, we just want to display the data, and play with it a bit. The time series looks like this\n",
    "\n",
    "![Mauna Loa CO2 record](https://www.pmel.noaa.gov/co2/files/co2_data_mlo_med.jpg)\n",
    "\n",
    "We first start by **importing some important Python packages for this analysis**"
   ]
  },
  {
   "cell_type": "code",
   "execution_count": 5,
   "metadata": {
    "ExecuteTime": {
     "end_time": "2017-11-08T20:17:00.191297Z",
     "start_time": "2017-11-08T20:16:59.836779Z"
    }
   },
   "outputs": [],
   "source": [
    "import os # Checks for files and so on\n",
    "import numpy as np # Numpy for arrays and so on\n",
    "import pandas as pd\n",
    "import sys\n",
    "import matplotlib.pyplot as plt # Matplotlib for plotting\n",
    "# Ensure the plots are shown in the notebook\n",
    "%matplotlib inline\n",
    "\n",
    "if (sys.version_info > (3, 0)):\n",
    "    from urllib.request import urlretrieve\n",
    "else:\n",
    "    from urllib2 import urlretrieve  # to get hold of the data, stored in an FTP site\n"
   ]
  },
  {
   "cell_type": "markdown",
   "metadata": {},
   "source": [
    "## Obtaining the data\n",
    "\n",
    "### Downloading the data\n",
    "\n",
    "The data are available on line from [NOAA](https://www.esrl.noaa.gov/gmd/ccgg/trends/data.html). We want the monthly  average dataset, which can be found there. If the data is not yet available in your system, the next Python cell will download it from [`ftp://aftp.cmdl.noaa.gov/products/trends/co2/co2_mm_mlo.txt`](ftp://aftp.cmdl.noaa.gov/products/trends/co2/co2_mm_mlo.txt). In this case, because the url is an FTP one we will use the `urllib2` package rather than requests, that doesn't deal with FTP. We will save it to a file with the same name locally:"
   ]
  },
  {
   "cell_type": "code",
   "execution_count": 18,
   "metadata": {
    "ExecuteTime": {
     "end_time": "2017-11-08T20:17:00.198354Z",
     "start_time": "2017-11-08T20:17:00.193353Z"
    }
   },
   "outputs": [],
   "source": [
    "address = 'ftp://aftp.cmdl.noaa.gov/products/trends/co2/'\n",
    "fname = \"co2_mm_mlo.txt\"\n",
    "if not os.path.exists(\"co2_mm_mlo.txt\"):\n",
    "    # Data file not present, let's download it\n",
    "    urlretrieve(os.path.join(address, fname), fname)\n"
   ]
  },
  {
   "cell_type": "markdown",
   "metadata": {},
   "source": [
    "### Exploring the data\n",
    "\n",
    "We can have a peek at the text file. We note that most of the first few lines are \"comments\" (lines start by `#`), which describe useful *metadata*. We note that we have several columns of data:\n",
    "\n",
    "1. The year\n",
    "2. The month\n",
    "3. The decimal date\n",
    "4. The monthly mean CO2 mole fraction determined from daily averages\n",
    "\n",
    "We will mostly be bothered about columns three and four.\n",
    "\n",
    "\n",
    "We can peek at the data (first 73 lines) using the UNIX shell [`head`](http://www.linfo.org/head.html) command (this will not work on Windows, but will probably work on OSX):"
   ]
  },
  {
   "cell_type": "code",
   "execution_count": 19,
   "metadata": {
    "ExecuteTime": {
     "end_time": "2017-11-08T20:17:00.337546Z",
     "start_time": "2017-11-08T20:17:00.223472Z"
    }
   },
   "outputs": [
    {
     "name": "stdout",
     "output_type": "stream",
     "text": [
      "# --------------------------------------------------------------------\r\n",
      "# USE OF NOAA ESRL DATA\r\n",
      "# \r\n",
      "# These data are made freely available to the public and the\r\n",
      "# scientific community in the belief that their wide dissemination\r\n",
      "# will lead to greater understanding and new scientific insights.\r\n",
      "# The availability of these data does not constitute publication\r\n",
      "# of the data.  NOAA relies on the ethics and integrity of the user to\r\n",
      "# insure that ESRL receives fair credit for their work.  If the data \r\n",
      "# are obtained for potential use in a publication or presentation, \r\n",
      "# ESRL should be informed at the outset of the nature of this work.  \r\n",
      "# If the ESRL data are essential to the work, or if an important \r\n",
      "# result or conclusion depends on the ESRL data, co-authorship\r\n",
      "# may be appropriate.  This should be discussed at an early stage in\r\n",
      "# the work.  Manuscripts using the ESRL data should be sent to ESRL\r\n",
      "# for review before they are submitted for publication so we can\r\n",
      "# insure that the quality and limitations of the data are accurately\r\n",
      "# represented.\r\n",
      "# \r\n",
      "# Contact:   Pieter Tans (303 497 6678; pieter.tans@noaa.gov)\r\n",
      "# \r\n",
      "# File Creation:  Mon Nov  6 08:40:18 2017\r\n",
      "# \r\n",
      "# RECIPROCITY\r\n",
      "# \r\n",
      "# Use of these data implies an agreement to reciprocate.\r\n",
      "# Laboratories making similar measurements agree to make their\r\n",
      "# own data available to the general public and to the scientific\r\n",
      "# community in an equally complete and easily accessible form.\r\n",
      "# Modelers are encouraged to make available to the community,\r\n",
      "# upon request, their own tools used in the interpretation\r\n",
      "# of the ESRL data, namely well documented model code, transport\r\n",
      "# fields, and additional information necessary for other\r\n",
      "# scientists to repeat the work and to run modified versions.\r\n",
      "# Model availability includes collaborative support for new\r\n",
      "# users of the models.\r\n",
      "# --------------------------------------------------------------------\r\n",
      "#  \r\n",
      "#  \r\n",
      "# See www.esrl.noaa.gov/gmd/ccgg/trends/ for additional details.\r\n",
      "#  \r\n",
      "# Data from March 1958 through April 1974 have been obtained by C. David Keeling\r\n",
      "# of the Scripps Institution of Oceanography (SIO) and were obtained from the\r\n",
      "# Scripps website (scrippsco2.ucsd.edu).\r\n",
      "#\r\n",
      "# The \"average\" column contains the monthly mean CO2 mole fraction determined\r\n",
      "# from daily averages.  The mole fraction of CO2, expressed as parts per million\r\n",
      "# (ppm) is the number of molecules of CO2 in every one million molecules of dried\r\n",
      "# air (water vapor removed).  If there are missing days concentrated either early\r\n",
      "# or late in the month, the monthly mean is corrected to the middle of the month\r\n",
      "# using the average seasonal cycle.  Missing months are denoted by -99.99.\r\n",
      "# The \"interpolated\" column includes average values from the preceding column\r\n",
      "# and interpolated values where data are missing.  Interpolated values are\r\n",
      "# computed in two steps.  First, we compute for each month the average seasonal\r\n",
      "# cycle in a 7-year window around each monthly value.  In this way the seasonal\r\n",
      "# cycle is allowed to change slowly over time.  We then determine the \"trend\"\r\n",
      "# value for each month by removing the seasonal cycle; this result is shown in\r\n",
      "# the \"trend\" column.  Trend values are linearly interpolated for missing months.\r\n",
      "# The interpolated monthly mean is then the sum of the average seasonal cycle\r\n",
      "# value and the trend value for the missing month.\r\n",
      "#\r\n",
      "# NOTE: In general, the data presented for the last year are subject to change, \r\n",
      "# depending on recalibration of the reference gas mixtures used, and other quality\r\n",
      "# control procedures. Occasionally, earlier years may also be changed for the same\r\n",
      "# reasons.  Usually these changes are minor.\r\n",
      "#\r\n",
      "# CO2 expressed as a mole fraction in dry air, micromol/mol, abbreviated as ppm\r\n",
      "#\r\n",
      "#  (-99.99 missing data;  -1 no data for #daily means in month)\r\n",
      "#\r\n",
      "#            decimal     average   interpolated    trend    #days\r\n",
      "#             date                             (season corr)\r\n",
      "1958   3    1958.208      315.71      315.71      314.62     -1\r\n"
     ]
    }
   ],
   "source": [
    "!head -n 73 co2_mm_mlo.txt"
   ]
  },
  {
   "cell_type": "markdown",
   "metadata": {},
   "source": [
    "## Loading the data into Python\n",
    "\n",
    "This is quite straightforward using [`np.loadtxt`](https://scipython.com/book/chapter-6-numpy/examples/using-numpys-loadtxt-method/)...\n",
    "\n",
    "We will also \"mask\" if the data is missing checking for the value -99.99..."
   ]
  },
  {
   "cell_type": "code",
   "execution_count": 21,
   "metadata": {
    "ExecuteTime": {
     "end_time": "2017-11-08T20:17:00.699393Z",
     "start_time": "2017-11-08T20:17:00.377863Z"
    }
   },
   "outputs": [
    {
     "data": {
      "text/plain": [
       "<matplotlib.text.Text at 0x10214c390>"
      ]
     },
     "execution_count": 21,
     "metadata": {},
     "output_type": "execute_result"
    },
    {
     "data": {
      "image/png": "[encoded data removed]",
      "text/plain": [
       "<matplotlib.figure.Figure at 0x106117978>"
      ]
     },
     "metadata": {},
     "output_type": "display_data"
    }
   ],
   "source": [
    "hdr = [\"year\", \"month\", \"decimal_date\", \"average\", \\\n",
    "       \"interpolated\", \"trend\", \"days\"]\n",
    "co2 = pd.read_csv(fname, comment='#', delim_whitespace=True,\n",
    "                  names=hdr, na_values=[-99.99, -1])\n",
    "\n",
    "plt.figure(figsize=(8,3))\n",
    "plt.plot(co2.decimal_date, co2.interpolated, '-')\n",
    "plt.xlabel(\"Time\")\n",
    "plt.ylabel(\"CO2 conc.\")"
   ]
  },
  {
   "cell_type": "markdown",
   "metadata": {},
   "source": [
    "So this is quite similar to what we had above. \n",
    "\n",
    "## A model for $CO_2$ concentration\n",
    "\n",
    "### A linear trend model\n",
    "\n",
    "We might be curious about a simple model for $CO_2$ concentration. Perhaps the simplest model is a linear trend, which we can write as the concentration at some time step $i$, $W_i$ being just a linear scaling of the time $x_i$:\n",
    "\n",
    "$$\n",
    "W_i = m \\cdot x_i + c.\n",
    "$$\n",
    "\n",
    "We can define a Python function for this very easily:"
   ]
  },
  {
   "cell_type": "code",
   "execution_count": 22,
   "metadata": {
    "ExecuteTime": {
     "end_time": "2017-11-08T20:17:00.712100Z",
     "start_time": "2017-11-08T20:17:00.704058Z"
    }
   },
   "outputs": [],
   "source": [
    "def linear_model(p, x):\n",
    "    m, c = p\n",
    "    return m*x + c\n"
   ]
  },
  {
   "cell_type": "markdown",
   "metadata": {},
   "source": [
    "We can now try to plot some model trajectories and the data by supplying parameters for the slope ($m$) and intercept ($c$). Let's start by assuming that the slope can be approximated by the difference between minimum and maximum concentrations divided  by the number of timesteps:\n",
    "\n",
    "$$\n",
    "m \\approx  \\frac{403-305}{716}\n",
    "$$\n",
    "\n",
    "$c$ is the minimum value, so $c\\approx 305$."
   ]
  },
  {
   "cell_type": "code",
   "execution_count": 23,
   "metadata": {
    "ExecuteTime": {
     "end_time": "2017-11-08T20:17:01.122086Z",
     "start_time": "2017-11-08T20:17:00.819656Z"
    }
   },
   "outputs": [
    {
     "ename": "SyntaxError",
     "evalue": "invalid syntax (<ipython-input-23-a6efe98dacdf>, line 9)",
     "output_type": "error",
     "traceback": [
      "\u001b[0;36m  File \u001b[0;32m\"<ipython-input-23-a6efe98dacdf>\"\u001b[0;36m, line \u001b[0;32m9\u001b[0m\n\u001b[0;31m    print \"Sum of squared residuals: {}\".format(S)\u001b[0m\n\u001b[0m                                       ^\u001b[0m\n\u001b[0;31mSyntaxError\u001b[0m\u001b[0;31m:\u001b[0m invalid syntax\n"
     ]
    }
   ],
   "source": [
    "x = np.arange(716)\n",
    "plt.figure(figsize=(8,3))\n",
    "plt.plot(x, co2[:,1], '-', label=\"Measured\")\n",
    "m = (403.-305.)/716\n",
    "c = 305.\n",
    "plt.plot(x, linear_model([m,c], x), '--', label=\"Modelled\")\n",
    "plt.legend(loc=\"best\")\n",
    "S = np.sum((linear_model([m,c], x[ok_data])- co2[ok_data,1])**2)\n",
    "print \"Sum of squared residuals: {}\".format(S)"
   ]
  },
  {
   "cell_type": "markdown",
   "metadata": {
    "ExecuteTime": {
     "end_time": "2017-11-08T15:59:23.615384Z",
     "start_time": "2017-11-08T15:59:23.593498Z"
    }
   },
   "source": [
    "So, not really a great fit... The overall shape is a bit off, and the model isn't really fitting the annual seasonality in the curve. \n",
    "\n",
    "### A quadratic model\n",
    "\n",
    "Maybe we need a higher order model, like a quadratic model:\n",
    "\n",
    "$$\n",
    "W_i = a_0 \\cdot x_i^2  + a_1 \\cdot x_i + a_2.\n",
    "$$\n",
    "\n",
    "In this case, it is a bit harder to eyeball what good starting parameters for $\\left[a_0, a_1, a_2\\left]$ would be. A strategy for this would be to consider what a good fit would look like, and then use this to define a metric of good fit. A good fit would basically overlap the measurements, being indistinguishable from them. The *residual* is the difference between the measurement and the model. In this case, it can be positive or negative (whether the model over- or undershoots the observations), but by squaring the residual we get rid of the sign. Then we can add up all the squared residuals, and the best fit will be the one that has the lowest sum of squares. This is in essence the [method of least squares](https://en.wikipedia.org/wiki/Least_squares). Let's see how this works *intuitevely*: we'll loop over the parameters and plot the different predicted concentrations... First we need our model function..."
   ]
  },
  {
   "cell_type": "code",
   "execution_count": null,
   "metadata": {
    "ExecuteTime": {
     "end_time": "2017-11-08T20:17:01.143933Z",
     "start_time": "2017-11-08T20:17:01.129230Z"
    }
   },
   "outputs": [],
   "source": [
    "def quadratic_model(p, x):\n",
    "    a0, a1, a2 = p\n",
    "    return a0*x**2 + a1*x + a2\n",
    "\n",
    "A = np.array([[716**2, 716], [300*300, 300]])\n",
    "b = np.array([403-315, 340-315])\n",
    "print np.linalg.solve(A,b)"
   ]
  },
  {
   "cell_type": "markdown",
   "metadata": {},
   "source": [
    "We can get a feeling of what the parameters might be just by eyeballing reading up some points from the graph, and then solving the system manually:\n",
    "\n",
    "$$\n",
    "\\begin{align}\n",
    "403 &= a_0\\cdot (716)^2 + a_1\\cdot (716) + a_2\\\\\n",
    "340 &= a_0\\cdot (300)^2 + a_1\\cdot (300) + a_2\\\\\n",
    "315 &= a_0\\cdot (0)^2 + a_1\\cdot (0) + a_2\\\\\n",
    "\\end{align}\n",
    "$$\n",
    "\n",
    "From this, we can get some rough estimates, which in this case are\n",
    "\n",
    "$$\n",
    "\\begin{align}\n",
    "a_0 &= 9.5\\cdot 10^{-5}\\\\\n",
    "a_1 &= 5.48\\cdot 10^{-2}\\\\\n",
    "a_2 &= 315.\\\\\n",
    "\\end{align}\n",
    "$$\n",
    "\n",
    "We can just basically run the model around these numbers and plot the different model predictions with a loop over $a_0$ and another one over $a_1$ (assuming $a_2$ is well defined)"
   ]
  },
  {
   "cell_type": "code",
   "execution_count": null,
   "metadata": {
    "ExecuteTime": {
     "end_time": "2017-11-08T20:17:01.855501Z",
     "start_time": "2017-11-08T20:17:01.270384Z"
    }
   },
   "outputs": [],
   "source": [
    "plt.figure(figsize=(8,3))\n",
    "\n",
    "a2 = 315.\n",
    "for a0 in np.linspace(1e-5, 20e-5, 10):\n",
    "    for a1 in np.linspace(1e-2, 10e-2, 10):\n",
    "        plt.plot( x, quadratic_model([a0, a1, a2], x), '-', lw=0.5, c=\"0.8\")\n",
    "        \n",
    "plt.plot(x, co2[:,1], '-', label=\"Measured\")"
   ]
  },
  {
   "cell_type": "markdown",
   "metadata": {
    "ExecuteTime": {
     "end_time": "2017-11-08T16:29:04.684907Z",
     "start_time": "2017-11-08T16:29:04.647283Z"
    }
   },
   "source": [
    "This is quite complicated, we can see that there might be a good line of fit, but we don't see clearly what parameters provide it! We can store the goodness of fit metric (sum of squared residuals) in a 2D array and then plot it as an image. It should be more obvious where the minimum lies..."
   ]
  },
  {
   "cell_type": "code",
   "execution_count": null,
   "metadata": {
    "ExecuteTime": {
     "end_time": "2017-11-08T20:17:02.271381Z",
     "start_time": "2017-11-08T20:17:01.859476Z"
    }
   },
   "outputs": [],
   "source": [
    "# Define a 2D array for the sum of squares (sos)\n",
    "sos = np.zeros((10, 20))\n",
    "# the time axis redefined again, in case it got confused with something else\n",
    "x = np.arange(716)\n",
    "\n",
    "# first loop is over a0, 20 steps between 1e-5 and 20e-5\n",
    "for ii, a0 in enumerate(np.linspace(1e-5, 20e-5, 20)):\n",
    "    # 2nd loop is over a1, 10 steps between 1e-2 and 10e-2\n",
    "    for jj, a1 in enumerate(np.linspace(1e-2, 10e-2, 10)):\n",
    "        # for the current values of a0 and a1, calculate the residual\n",
    "        residual = quadratic_model([a0, a1, a2], x[ok_data]) - co2[ok_data, 1]\n",
    "        sq_residual = residual*residual\n",
    "        sum_of_residuals = sq_residual.sum()\n",
    "        # Store the sum_of_residuals into our array\n",
    "        sos[jj, ii] = np.sum((quadratic_model([a0, a1, a2], x)[ok_data] - co2[ok_data, 1])**2)\n",
    "# Plotting!\n",
    "plt.figure(figsize=(8,3))\n",
    "# Set up the x and y axis for the plot\n",
    "yy = np.linspace(1e-5, 20e-5, 20)\n",
    "xx = np.linspace(1e-5, 10e-2, 10)\n",
    "# Do a contour plot. The logspace bit basically defines the location \n",
    "# of 20 contour lines\n",
    "c = plt.contourf(yy, xx, sos, np.logspace(3,5,20))\n",
    "# Colorbar\n",
    "plt.colorbar()\n",
    "# Now, just plot the rough guess of a0 and a1 into this plot\n",
    "# We want to plot an empty circle with a white edge\n",
    "plt.plot(9.51242659e-05, 5.47960536e-02, 'o', mfc=\"None\", mec=\"w\")\n",
    "\n"
   ]
  },
  {
   "cell_type": "markdown",
   "metadata": {
    "ExecuteTime": {
     "end_time": "2017-11-08T16:43:34.583448Z",
     "start_time": "2017-11-08T16:43:34.578432Z"
    }
   },
   "source": [
    "So that's pretty interesting, we get a very clear \"valley\", with a minimum pretty close to where our first rough guess is... Let's find out where the actual minimum from our brute-force approach is. We can do this quickly by creating a mask where all the elements are `False` except where the minimum value of `sos` is located. We can then use this mask to multiply our `x` and `y` axes and just select the unique values that are larger than 0."
   ]
  },
  {
   "cell_type": "code",
   "execution_count": null,
   "metadata": {
    "ExecuteTime": {
     "end_time": "2017-11-08T20:17:02.282600Z",
     "start_time": "2017-11-08T20:17:02.274101Z"
    }
   },
   "outputs": [],
   "source": [
    "print \"Best SoS: {:g}\".format(sos.min())\n",
    "sos_mask = sos == sos.min()\n",
    "u1 = np.unique(yy[None, :]*sos_mask)\n",
    "yy_opt = u1[u1 > 0]\n",
    "u2 = np.unique(xx[:, None]*sos_mask)\n",
    "xx_opt = u2[u2 > 0]"
   ]
  },
  {
   "cell_type": "markdown",
   "metadata": {},
   "source": [
    "We can plot now the cost function, as well as our first rough guess and the final guess:"
   ]
  },
  {
   "cell_type": "code",
   "execution_count": null,
   "metadata": {
    "ExecuteTime": {
     "end_time": "2017-11-08T20:17:02.735016Z",
     "start_time": "2017-11-08T20:17:02.285502Z"
    }
   },
   "outputs": [],
   "source": [
    "# Plotting!\n",
    "plt.figure(figsize=(8, 3))\n",
    "# Set up the x and y axis for the plot\n",
    "yy = np.linspace(1e-5, 20e-5, 20)\n",
    "xx = np.linspace(1e-5, 10e-2, 10)\n",
    "# Do a contour plot. The logspace bit basically defines the location\n",
    "# of 20 contour lines\n",
    "c = plt.contourf(yy, xx, sos, np.logspace(3, 5, 20))\n",
    "# Colorbar\n",
    "plt.colorbar()\n",
    "# Now, just plot the rough guess of a0 and a1 into this plot\n",
    "# We want to plot an empty circle with a white edge\n",
    "plt.plot(\n",
    "    9.51242659e-05,\n",
    "    5.47960536e-02,\n",
    "    'o',\n",
    "    mfc=\"None\",\n",
    "    mec=\"0.8\",\n",
    "    label=\"Rough guess\")\n",
    "plt.plot(yy_opt, xx_opt, 'o', mfc=\"None\", mec=\"r\", label=\"Brute force guess\")\n",
    "plt.legend(loc=\"best\")"
   ]
  },
  {
   "cell_type": "markdown",
   "metadata": {
    "ExecuteTime": {
     "end_time": "2017-11-08T17:38:48.302261Z",
     "start_time": "2017-11-08T17:38:48.293577Z"
    }
   },
   "source": [
    "That's not *too bad*! But althogh we found a minimum, we haven't shown how well our model really fits the observations! Let's plot the prediction (with the \"optimised parameters\" as well as the roughly guessed ones):"
   ]
  },
  {
   "cell_type": "code",
   "execution_count": null,
   "metadata": {
    "ExecuteTime": {
     "end_time": "2017-11-08T20:17:03.147522Z",
     "start_time": "2017-11-08T20:17:02.737490Z"
    }
   },
   "outputs": [],
   "source": [
    "plt.figure(figsize=(8, 3))\n",
    "\n",
    "a2 = 315.\n",
    "\n",
    "plt.plot(\n",
    "    x,\n",
    "    quadratic_model([9.51242659e-05, 5.47960536e-02, a2], x),\n",
    "    '-',\n",
    "    label=\"Rough guess\")\n",
    "plt.plot(x, quadratic_model([yy_opt, xx_opt, a2], x), '-', label=\"Brute force\")\n",
    "\n",
    "plt.plot(x, co2[:, 1], '-', label=\"Measured\")\n",
    "plt.legend(loc=\"best\")"
   ]
  },
  {
   "cell_type": "markdown",
   "metadata": {},
   "source": [
    "## Solving the problem using linear algebra \n",
    "\n",
    "So we can see that our brute force search has given us a better fit, which is what one expectes. It should be possible to solve this analytically. Let's write this as a matrix problem:\n",
    "\n",
    "$$\n",
    "\\begin{align*}\n",
    "\\mathbf{A}\\cdot\\vec{x}&=\\vec{y}\\\\\n",
    "\\mathbf{A}&=\\begin{bmatrix} \n",
    "x_1^2 & x_1 & 1 \\\\\n",
    "x_2^2 & x_2 & 1 \\\\\n",
    "x_3^2 & x_3 & 1 \\\\\n",
    "\\vdots & \\vdots \\vdots \\\\\n",
    "x_N**2 & x_N & 1 \\\\\\end{bmatrix}\\\\\n",
    "\\vec{x} &=\\begin{bmatrix}a_0\\\\a_1\\\\a_2 \\end{bmatrix}\\\\\n",
    "\\vec{y} &=\\begin{bmatrix}W_1\\\\W_2\\\\W_3\\\\ \\vdots \\\\W_N \\end{bmatrix}\\\\\n",
    "\\end{align*}\n",
    "$$"
   ]
  },
  {
   "cell_type": "markdown",
   "metadata": {},
   "source": [
    "So, we see that this is really an overdetermined linear problem, where we've got more observations ($N$) than parameters (3). We can solve this by calculating the pseudo inverse:\n",
    "\n",
    "$$\n",
    "\\vec{x} = \\left[\\mathbf{A}^{\\top}\\mathbf{A}  \\right]^{-1}\\vec{y},\n",
    "$$\n",
    "where $^{\\top}$ is the **transpose**, and $^{-1}$ is the inverse matrix. We can solve this problem easily in Python, which can deal with linear algebra nicely. The [`np.linalg.lstsq`](https://docs.scipy.org/doc/numpy-1.13.0/reference/generated/numpy.linalg.lstsq.html) method has a direct solver, or you can also work it out by calculating the inverse matrix yourself. The latter approach is usually numerically more unstable, so we won't be looking into it.\n",
    "\n",
    "### Solution using `np.linalg.lstsq`\n",
    "\n",
    "In this case, we need to define the matrix $\\mathbf{A}$. The observations vector $\\vec{y}$ is already defined. What is needed is to weed out the invalid measurements in both $\\mathbf{A}$ and $\\vec{y}$. We then use [`np.linalg.lstsq`](https://docs.scipy.org/doc/numpy-1.13.0/reference/generated/numpy.linalg.lstsq.html) to solve the linear overdetermined system. This returns a number of things:\n",
    "\n",
    "1. The solution vector.\n",
    "2. The sum of squared residuals.\n",
    "3. The rank of the matrix $\\mathbf{A}$.\n",
    "4. The eigenvalues.\n",
    "\n",
    "We're really only interested in the first two (the other two outputs are important, but this is not your methods course!)."
   ]
  },
  {
   "cell_type": "code",
   "execution_count": null,
   "metadata": {
    "ExecuteTime": {
     "end_time": "2017-11-08T20:17:03.186818Z",
     "start_time": "2017-11-08T20:17:03.155690Z"
    }
   },
   "outputs": [],
   "source": [
    "# We create the A matrix\n",
    "x = np.arange(716)[ok_data]\n",
    "A = np.array([x**2, x, np.ones_like(x)])\n",
    "# Now put the observations into y\n",
    "y = co2[ok_data, 1]\n",
    "\n",
    "# Call lstsq\n",
    "xopt, sum_of_residuals, r, evals = np.linalg.lstsq(A.T, y)\n",
    "rough_guess = [9.51242659e-05, 5.47960536e-02, 315]\n",
    "brute_force = [yy_opt, xx_opt, 315]\n",
    "print \"Parameter   Matrix       Brute force     Rough guess\"\n",
    "for par in range(3):\n",
    "    print \"a{}:         {:08.5e}\\t {:08.5e}\\t {:08.5e}\".format(\n",
    "        par, xopt[par], float(brute_force[par]), rough_guess[par])\n",
    "print \"Sum of residuals: {:g}\".format(float(sum_of_residuals))"
   ]
  },
  {
   "cell_type": "code",
   "execution_count": null,
   "metadata": {
    "ExecuteTime": {
     "end_time": "2017-11-08T20:17:03.557695Z",
     "start_time": "2017-11-08T20:17:03.189047Z"
    }
   },
   "outputs": [],
   "source": [
    "plt.figure(figsize=(8, 3))\n",
    "x = np.arange(716)\n",
    "a2 = 315.\n",
    "\n",
    "plt.plot(\n",
    "    x,\n",
    "    quadratic_model(rough_guess, x),\n",
    "    '-',\n",
    "    label=\"Rough guess\")\n",
    "plt.plot(x, quadratic_model([yy_opt, xx_opt, a2], x), '-', label=\"Brute force\")\n",
    "plt.plot(x, quadratic_model(xopt, x), '-', label=\"Linear least squares\")\n",
    "\n",
    "plt.plot(x, co2[:, 1], '-', lw=0.6, label=\"Measured\")\n",
    "plt.legend(loc=\"best\")"
   ]
  },
  {
   "cell_type": "markdown",
   "metadata": {
    "ExecuteTime": {
     "end_time": "2017-11-08T18:34:17.138546Z",
     "start_time": "2017-11-08T18:34:17.133788Z"
    }
   },
   "source": [
    "So we can see that the optimal value is quite similar to the other two solutions, but results in a better fit (3470 versus 4090). We can see that with this method we can solve for all three parameters, even though our first guess of 315 for $a_2$ was pretty close to the true solution. "
   ]
  },
  {
   "cell_type": "markdown",
   "metadata": {
    "ExecuteTime": {
     "end_time": "2017-11-08T18:24:22.613045Z",
     "start_time": "2017-11-08T18:24:22.461066Z"
    }
   },
   "source": [
    "## A model with seasonality\n",
    "\n",
    "While the quadratic model appears to go through the centre of the Mauna Loa curve, it clearly misses an important feature: the seasonality of the $CO_2$ concentration. We can't really emulate that behaviour with a simple quadratic function, but need a different model, one that deals with the seasonality. We can think that the seasonality is an additive cosine term, so that our model for $CO_2$ concentration is now\n",
    "\n",
    "$$\n",
    "W_i = a_0\\cdot x_i^2 + a_1\\cdot x_i + a_2 + a_3\\cdot \\cos\\left(2\\pi\\frac{x}{T}  \\right),\n",
    "$$\n",
    "where $T$ is the period of the seasonality, in this case, annual so $T=12$.\n",
    "\n",
    "We can solve this problem as before, noting that our $\\mathbf{A}$ matrix is now given by \n",
    "\n",
    "$$\n",
    "\\mathbf{A}=\\begin{bmatrix}  \n",
    "x_1^2 & x_1 & 1 & \\cos \\left( 2\\pi\\frac{x_1}{T}\\right)\\\\\n",
    "x_2^2 & x_2 & 1 & \\cos \\left( 2\\pi\\frac{x_2}{T}\\right)\\\\\n",
    "x_3^2 & x_3 & 1 & \\cos \\left( 2\\pi\\frac{x_3}{T}\\right)\\\\\n",
    "\\vdots & \\vdots & \\vdots & \\vdots \\\\\n",
    "x_N^2 & x_N & 1 & \\cos \\left( 2\\pi\\frac{x_N}{T}\\right)\\\\\n",
    "\\end{bmatrix}.\n",
    "$$\n",
    "\n",
    "We can still solve the problem by making use of `lstsq`. Let's see how that works!"
   ]
  },
  {
   "cell_type": "code",
   "execution_count": null,
   "metadata": {
    "ExecuteTime": {
     "end_time": "2017-11-08T20:17:04.178811Z",
     "start_time": "2017-11-08T20:17:03.560646Z"
    }
   },
   "outputs": [],
   "source": [
    "period = 12.\n",
    "def quadratic_with_season (p, x):\n",
    "    a0, a1, a2, a3 = p\n",
    "    return a0*x*x + a1*x + a2 + a3*np.cos(2*np.pi*(x/period))\n",
    "\n",
    "# We create the A matrix\n",
    "x = np.arange(716)[ok_data]\n",
    "A = np.array([x*x, x, np.ones_like(x), np.cos(2*np.pi*(x/period))])\n",
    "# Now put the observations into y\n",
    "y = co2[ok_data, 1]\n",
    "\n",
    "# Call lstsq\n",
    "xopt, sum_of_residuals, r, evals = np.linalg.lstsq(A.T, y)\n",
    "for par in range(3):\n",
    "    print \"a{}:         {:08.5e}\".format(\n",
    "        par, xopt[par])\n",
    "print sum_of_residuals\n",
    "\n",
    "fig, axs = plt.subplots(nrows=2, ncols=1, sharex=True, figsize=(8, 6))\n",
    "\n",
    "\n",
    "axs[0].plot(\n",
    "    x,\n",
    "    quadratic_with_season(xopt, x),\n",
    "    '-', lw=4, label=\"Fitted with seasonality\")\n",
    "axs[0].plot(x, quadratic_model([8.70644e-05, 6.58749e-02, 3.14395e+02], x), '-',\n",
    "           label=\"Fit with NO seasonality\" )\n",
    "\n",
    "axs[0].plot(x, co2[ok_data, 1], '-', label=\"Measured\")\n",
    "axs[0].legend(loc=\"best\")\n",
    "axs[1].plot(x, co2[ok_data, 1] -  quadratic_with_season(xopt, x), 'k+', label=\"Fit with seasonality\"  )\n",
    "axs[1].plot(x, co2[ok_data, 1] - quadratic_model([8.70644e-05, 6.58749e-02, 3.14395e+02], x), 'rx',\n",
    "           label=\"Fit with NO seasonality\" )\n",
    "axs[1].set_ylim(6, -6)\n",
    "axs[1].axhline(0, c=\"0.8\")\n",
    "axs[0].set_ylabel(\"Concentration\")\n",
    "axs[1].set_ylabel(\"Residuals\")\n",
    "axs[1].set_xlabel(\"Time\")\n",
    "axs[1].legend(loc=\"best\")\n"
   ]
  },
  {
   "cell_type": "markdown",
   "metadata": {},
   "source": [
    "So that's pretty good: by adding a simple cosine term, we can now start to model the annual seasonality in the measurements, and the sum of squared residuals is now further shrunk to 1614. This is good, but in some ways unsurprising: you're now solving for 4 parameters, rather than 3 or 2 (for the simple linear case), so you have more degrees of freedom, and you expect to be able to fit your data better. \n",
    "\n",
    "... But that's just enough for today ;-)"
   ]
  }
 ],
 "metadata": {
  "kernelspec": {
   "display_name": "Python 3",
   "language": "python",
   "name": "python3"
  },
  "language_info": {
   "codemirror_mode": {
    "name": "ipython",
    "version": 3
   },
   "file_extension": ".py",
   "mimetype": "text/x-python",
   "name": "python",
   "nbconvert_exporter": "python",
   "pygments_lexer": "ipython3",
   "version": "3.6.2"
  },
  "latex_envs": {
   "LaTeX_envs_menu_present": true,
   "autocomplete": true,
   "bibliofile": "biblio.bib",
   "cite_by": "apalike",
   "current_citInitial": 1,
   "eqLabelWithNumbers": true,
   "eqNumInitial": 1,
   "hotkeys": {
    "equation": "Ctrl-E",
    "itemize": "Ctrl-I"
   },
   "labels_anchors": false,
   "latex_user_defs": false,
   "report_style_numbering": false,
   "user_envs_cfg": false
  },
  "toc": {
   "nav_menu": {},
   "number_sections": true,
   "sideBar": true,
   "skip_h1_title": true,
   "toc_cell": true,
   "toc_position": {},
   "toc_section_display": "block",
   "toc_window_display": false
  }
 },
 "nbformat": 4,
 "nbformat_minor": 2
}
